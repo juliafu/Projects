{
 "cells": [
  {
   "cell_type": "code",
   "execution_count": 10,
   "id": "f5078e70",
   "metadata": {},
   "outputs": [],
   "source": [
    "import openai\n",
    "import os\n",
    "import re\n",
    "from google.cloud import bigquery\n",
    "import pandas as pd\n",
    "import datetime\n",
    "\n",
    "from dotenv import load_dotenv, find_dotenv\n",
    "_ = load_dotenv(find_dotenv()) # read local .env file\n",
    "\n",
    "openai.api_key = os.getenv('OPENAI_API_KEY')\n",
    "google_application_credentials = os.getenv(\"GOOGLE_APPLICATION_CREDENTIALS\")\n",
    "\n"
   ]
  },
  {
   "cell_type": "code",
   "execution_count": 17,
   "id": "a51f1933",
   "metadata": {},
   "outputs": [],
   "source": [
    "def get_completion(prompt, model=\"gpt-3.5-turbo\"):\n",
    "    messages = [{\"role\": \"user\", \"content\": prompt}]\n",
    "    response = openai.ChatCompletion.create(\n",
    "        model=model,\n",
    "        messages=messages,\n",
    "        temperature=0, # this is the degree of randomness of the model's output\n",
    "    )\n",
    "    return response.choices[0].message[\"content\"]\n",
    "\n",
    "def get_completion_from_messages(messages, model=\"gpt-3.5-turbo\", temperature=0):\n",
    "    response = openai.ChatCompletion.create(\n",
    "        model=model,\n",
    "        messages=messages,\n",
    "        temperature=temperature, # this is the degree of randomness of the model's output\n",
    "    )\n",
    "#     print(str(response.choices[0].message))\n",
    "    return response.choices[0].message[\"content\"]"
   ]
  },
  {
   "cell_type": "code",
   "execution_count": 18,
   "id": "2053ead8",
   "metadata": {},
   "outputs": [
    {
     "name": "stdout",
     "output_type": "stream",
     "text": [
      "To get away from old man McDonald (the farmer responsible for gathering his chickie ol' house :)|\n"
     ]
    }
   ],
   "source": [
    "# this is a fun way to test openai connection. can be skipped\n",
    "messages =  [  \n",
    "{'role':'system', 'content':'You are an assistant that explains SQL.'},    \n",
    "{'role':'user', 'content':'tell me a joke'},   \n",
    "{'role':'assistant', 'content':'Why did the chicken cross the road'},   \n",
    "{'role':'user', 'content':'I don\\'t know'}  ]\n",
    "response = get_completion_from_messages(messages, temperature=2)\n",
    "print(response)"
   ]
  },
  {
   "cell_type": "code",
   "execution_count": 19,
   "id": "48e66826",
   "metadata": {},
   "outputs": [],
   "source": [
    "def collect_messages():\n",
    "    prompt = inp.value\n",
    "    inp.value = ''\n",
    "    context.append({'role': 'user1', 'content': f\"{prompt}\"})\n",
    "    response = get_completion_from_messages(context)\n",
    "    context.append({'role': 'assistant', 'content': f\"{response}\"})\n"
   ]
  },
  {
   "cell_type": "code",
   "execution_count": 20,
   "id": "9307fdd0",
   "metadata": {},
   "outputs": [],
   "source": [
    "# function to read and concatenate files\n",
    "def read_and_concatenate_files(path, file_list):\n",
    "    concatenated_string = ''\n",
    "    for file_name in file_list:\n",
    "        file_path = os.path.join(path, file_name)\n",
    "        with open(file_path, 'r') as file:\n",
    "            content = file.read()\n",
    "        concatenated_string += content\n",
    "    return concatenated_string\n",
    "\n",
    "#print(\"Combined content:\")\n",
    "#print(query_prompt_content)\n",
    "\n",
    "# function to format prompt and response\n",
    "def format_text(prompt, response):\n",
    "    formatted_prompt = f\"User: {prompt}\"\n",
    "    formatted_response = f\"Assistant: {response}\"\n",
    "    return formatted_prompt, formatted_response\n",
    "\n",
    "# function to extract SQL statement from response\n",
    "def extract_sql(response):\n",
    "    match = re.search(r'```\\s*(.*?)\\s*```', response, re.DOTALL)\n",
    "    return match.group(1) if match else None\n",
    "\n",
    "# function to execute SQL using BigQuery\n",
    "def execute_query(sql):\n",
    "    client = bigquery.Client()\n",
    "    query_job = client.query(sql)\n",
    "    \n",
    "    return query_job.result()\n",
    "    "
   ]
  },
  {
   "cell_type": "code",
   "execution_count": 21,
   "id": "46e46fda",
   "metadata": {},
   "outputs": [
    {
     "data": {
      "application/vnd.jupyter.widget-view+json": {
       "model_id": "4ba3c66a2dbd4eec8eac48459956b59c",
       "version_major": 2,
       "version_minor": 0
      },
      "text/plain": [
       "Box(children=(Text(value='2023-05-09 00:47:03', description='Input:', layout=Layout(width='500px')),), layout=…"
      ]
     },
     "metadata": {},
     "output_type": "display_data"
    },
    {
     "data": {
      "application/vnd.jupyter.widget-view+json": {
       "model_id": "82fc518bcd4747578533ebfea165502a",
       "version_major": 2,
       "version_minor": 0
      },
      "text/plain": [
       "Box(children=(Button(description='Generate SQL', style=ButtonStyle()), Button(description='Execute SQL', style…"
      ]
     },
     "metadata": {},
     "output_type": "display_data"
    },
    {
     "data": {
      "application/vnd.jupyter.widget-view+json": {
       "model_id": "d809a0f573c74b6c8df979287f874a04",
       "version_major": 2,
       "version_minor": 0
      },
      "text/plain": [
       "Output()"
      ]
     },
     "metadata": {},
     "output_type": "display_data"
    }
   ],
   "source": [
    "#set context\n",
    "path = 'prompts'\n",
    "files = ['create_sql.txt','table_definition.json' ]\n",
    "query_prompt_content = read_and_concatenate_files(path, files)\n",
    "\n",
    "\n",
    "import ipywidgets as widgets\n",
    "from IPython.display import display, clear_output\n",
    "\n",
    "\n",
    "# Create input box and buttons\n",
    "input_box = widgets.Text(description=\"Input:\", layout= widgets.Layout(width='500px'))\n",
    "\n",
    "button_conversation_gen = widgets.Button(description=\"Generate SQL\")\n",
    "button_conversation_exe = widgets.Button(description=\"Execute SQL\")\n",
    "output = widgets.Output()\n",
    "\n",
    "# make formatted_response a global scope\n",
    "formatted_prompt = ''\n",
    "formatted_response = ''\n",
    "\n",
    "# Function to handle button_conversation_gen click\n",
    "def gen_sql(button):\n",
    "    global formatted_prompt    # Use the global variable formatted_prompt\n",
    "    global formatted_response  # Use the global variable formatted_response\n",
    "\n",
    "    with output:\n",
    "        clear_output(wait=True)\n",
    "        prompt = input_box.value\n",
    "        \n",
    "        context = [{'role': 'system', 'content': f\"{query_prompt_content}\"}]  # accumulate messages\n",
    "        context.append({'role': 'user', 'content': f\"{prompt}\"})\n",
    "        response = get_completion_from_messages(context)\n",
    "        formatted_prompt, formatted_response = format_text(prompt, response)\n",
    "        print(formatted_prompt)\n",
    "        print(formatted_response)\n",
    "\n",
    "# Function to handle button_conversation_exe click\n",
    "def exe_sql(button):\n",
    "    with output:\n",
    "        clear_output(wait=True)\n",
    "       \n",
    "        sql = extract_sql(formatted_response)\n",
    "        if sql:\n",
    "            try:\n",
    "                results = execute_query(sql)\n",
    "                print (formatted_response)\n",
    "                print(\"\\nResults:\")\n",
    "                # Print the column names\n",
    "                print(\" | \".join([field.name for field in results.schema]))\n",
    "    \n",
    "                # Print the results\n",
    "                for row in results:\n",
    "                    print(\" | \".join([str(value) for value in row]))\n",
    "            except Exception as e:\n",
    "                print(f\"An error occurred while executing the query: {e}\")\n",
    "        else:\n",
    "            print(\"No SQL statement found in the response.\")\n",
    "\n",
    "\n",
    "# Connect the functions to button clicks\n",
    "button_conversation_gen.on_click(gen_sql)\n",
    "button_conversation_exe.on_click(exe_sql)\n",
    "\n",
    "# Display input box, buttons and output\n",
    "current_timestamp = datetime.datetime.now()\n",
    "input_box.value=current_timestamp.strftime(\"%Y-%m-%d %H:%M:%S\")\n",
    "\n",
    "input_box_container = widgets.Box([input_box], layout=widgets.Layout(display='flex', justify_content='center'))\n",
    "buttons_container = widgets.Box([button_conversation_gen, button_conversation_exe],\n",
    "                                layout=widgets.Layout(display='flex', justify_content='center'))\n",
    "display(input_box_container)\n",
    "display(buttons_container)\n",
    "display(output)\n"
   ]
  },
  {
   "cell_type": "code",
   "execution_count": null,
   "id": "7f4c23d3",
   "metadata": {},
   "outputs": [],
   "source": []
  },
  {
   "cell_type": "code",
   "execution_count": null,
   "id": "27cb3a55",
   "metadata": {},
   "outputs": [],
   "source": []
  }
 ],
 "metadata": {
  "kernelspec": {
   "display_name": "Python 3 (ipykernel)",
   "language": "python",
   "name": "python3"
  },
  "language_info": {
   "codemirror_mode": {
    "name": "ipython",
    "version": 3
   },
   "file_extension": ".py",
   "mimetype": "text/x-python",
   "name": "python",
   "nbconvert_exporter": "python",
   "pygments_lexer": "ipython3",
   "version": "3.11.3"
  }
 },
 "nbformat": 4,
 "nbformat_minor": 5
}
